{
 "cells": [
  {
   "cell_type": "markdown",
   "source": [
    "# First, let's inspect and clean our CitiBike trips data"
   ],
   "metadata": {
    "collapsed": false
   },
   "id": "954e9365c45b5e9e"
  },
  {
   "cell_type": "code",
   "outputs": [
    {
     "name": "stdout",
     "output_type": "stream",
     "text": [
      "Total number of rows in Citi Bike dataset: 988851\n"
     ]
    },
    {
     "data": {
      "text/plain": "                 ride_id  rideable_type           started_at  \\\n0       0905B18B365C9D20   classic_bike  2023-01-28 09:18:10   \n1       B4F0562B05CB5404  electric_bike  2023-01-23 20:10:12   \n2       5ABF032895F5D87E   classic_bike  2023-01-29 15:27:04   \n3       E7E1F9C53976D2F9   classic_bike  2023-01-24 18:35:08   \n4       323165780CA0734B   classic_bike  2023-01-21 20:44:09   \n...                  ...            ...                  ...   \n988846  7E862701EE7A6A03   classic_bike  2023-12-20 17:55:41   \n988847  DFAF91AB91BE25DB   classic_bike  2023-12-13 14:36:43   \n988848  AEE7B49E6EDFAE6F   classic_bike  2023-12-18 16:40:00   \n988849  A38E98956AD72EFB   classic_bike  2023-12-02 13:42:51   \n988850  F16E0B969D877368   classic_bike  2023-12-19 16:30:13   \n\n                   ended_at                        start_station_name  \\\n0       2023-01-28 09:28:52  Hoboken Terminal - Hudson St & Hudson Pl   \n1       2023-01-23 20:18:27  Hoboken Terminal - Hudson St & Hudson Pl   \n2       2023-01-29 15:32:38  Hoboken Terminal - Hudson St & Hudson Pl   \n3       2023-01-24 18:42:13  Hoboken Terminal - Hudson St & Hudson Pl   \n4       2023-01-21 20:48:08                             Hamilton Park   \n...                     ...                                       ...   \n988846  2023-12-20 18:00:10                          Heights Elevator   \n988847  2023-12-13 14:42:31                          Heights Elevator   \n988848  2023-12-18 16:45:45                           6 St & Grand St   \n988849  2023-12-02 13:50:42                           6 St & Grand St   \n988850  2023-12-19 16:36:54                           6 St & Grand St   \n\n       start_station_id                            end_station_name  \\\n0                 HB101                               Hamilton Park   \n1                 HB101  Southwest Park - Jackson St & Observer Hwy   \n2                 HB101                          Marshall St & 2 St   \n3                 HB101                               Hamilton Park   \n4                 JC009                                Manila & 1st   \n...                 ...                                         ...   \n988846            JC059                       Bloomfield St & 15 St   \n988847            JC059                       Bloomfield St & 15 St   \n988848            HB302                       Bloomfield St & 15 St   \n988849            HB302                       Bloomfield St & 15 St   \n988850            HB302                           Clinton St & 7 St   \n\n       end_station_id  start_lat  start_lng    end_lat    end_lng  \\\n0               JC009  40.735938 -74.030305  40.727596 -74.044247   \n1               HB401  40.735938 -74.030305  40.737551 -74.041664   \n2               HB408  40.735944 -74.030383  40.740802 -74.042521   \n3               JC009  40.735986 -74.030364  40.727596 -74.044247   \n4               JC082  40.727596 -74.044247  40.721651 -74.042884   \n...               ...        ...        ...        ...        ...   \n988846          HB203  40.748720 -74.040487  40.754530 -74.026580   \n988847          HB203  40.748767 -74.040470  40.754530 -74.026580   \n988848          HB203  40.744291 -74.034404  40.754530 -74.026580   \n988849          HB203  40.744398 -74.034501  40.754530 -74.026580   \n988850          HB303  40.744398 -74.034501  40.745420 -74.033320   \n\n       member_casual  \n0             member  \n1             member  \n2             member  \n3             member  \n4             member  \n...              ...  \n988846        casual  \n988847        member  \n988848        member  \n988849        member  \n988850        member  \n\n[988851 rows x 13 columns]",
      "text/html": "<div>\n<style scoped>\n    .dataframe tbody tr th:only-of-type {\n        vertical-align: middle;\n    }\n\n    .dataframe tbody tr th {\n        vertical-align: top;\n    }\n\n    .dataframe thead th {\n        text-align: right;\n    }\n</style>\n<table border=\"1\" class=\"dataframe\">\n  <thead>\n    <tr style=\"text-align: right;\">\n      <th></th>\n      <th>ride_id</th>\n      <th>rideable_type</th>\n      <th>started_at</th>\n      <th>ended_at</th>\n      <th>start_station_name</th>\n      <th>start_station_id</th>\n      <th>end_station_name</th>\n      <th>end_station_id</th>\n      <th>start_lat</th>\n      <th>start_lng</th>\n      <th>end_lat</th>\n      <th>end_lng</th>\n      <th>member_casual</th>\n    </tr>\n  </thead>\n  <tbody>\n    <tr>\n      <th>0</th>\n      <td>0905B18B365C9D20</td>\n      <td>classic_bike</td>\n      <td>2023-01-28 09:18:10</td>\n      <td>2023-01-28 09:28:52</td>\n      <td>Hoboken Terminal - Hudson St &amp; Hudson Pl</td>\n      <td>HB101</td>\n      <td>Hamilton Park</td>\n      <td>JC009</td>\n      <td>40.735938</td>\n      <td>-74.030305</td>\n      <td>40.727596</td>\n      <td>-74.044247</td>\n      <td>member</td>\n    </tr>\n    <tr>\n      <th>1</th>\n      <td>B4F0562B05CB5404</td>\n      <td>electric_bike</td>\n      <td>2023-01-23 20:10:12</td>\n      <td>2023-01-23 20:18:27</td>\n      <td>Hoboken Terminal - Hudson St &amp; Hudson Pl</td>\n      <td>HB101</td>\n      <td>Southwest Park - Jackson St &amp; Observer Hwy</td>\n      <td>HB401</td>\n      <td>40.735938</td>\n      <td>-74.030305</td>\n      <td>40.737551</td>\n      <td>-74.041664</td>\n      <td>member</td>\n    </tr>\n    <tr>\n      <th>2</th>\n      <td>5ABF032895F5D87E</td>\n      <td>classic_bike</td>\n      <td>2023-01-29 15:27:04</td>\n      <td>2023-01-29 15:32:38</td>\n      <td>Hoboken Terminal - Hudson St &amp; Hudson Pl</td>\n      <td>HB101</td>\n      <td>Marshall St &amp; 2 St</td>\n      <td>HB408</td>\n      <td>40.735944</td>\n      <td>-74.030383</td>\n      <td>40.740802</td>\n      <td>-74.042521</td>\n      <td>member</td>\n    </tr>\n    <tr>\n      <th>3</th>\n      <td>E7E1F9C53976D2F9</td>\n      <td>classic_bike</td>\n      <td>2023-01-24 18:35:08</td>\n      <td>2023-01-24 18:42:13</td>\n      <td>Hoboken Terminal - Hudson St &amp; Hudson Pl</td>\n      <td>HB101</td>\n      <td>Hamilton Park</td>\n      <td>JC009</td>\n      <td>40.735986</td>\n      <td>-74.030364</td>\n      <td>40.727596</td>\n      <td>-74.044247</td>\n      <td>member</td>\n    </tr>\n    <tr>\n      <th>4</th>\n      <td>323165780CA0734B</td>\n      <td>classic_bike</td>\n      <td>2023-01-21 20:44:09</td>\n      <td>2023-01-21 20:48:08</td>\n      <td>Hamilton Park</td>\n      <td>JC009</td>\n      <td>Manila &amp; 1st</td>\n      <td>JC082</td>\n      <td>40.727596</td>\n      <td>-74.044247</td>\n      <td>40.721651</td>\n      <td>-74.042884</td>\n      <td>member</td>\n    </tr>\n    <tr>\n      <th>...</th>\n      <td>...</td>\n      <td>...</td>\n      <td>...</td>\n      <td>...</td>\n      <td>...</td>\n      <td>...</td>\n      <td>...</td>\n      <td>...</td>\n      <td>...</td>\n      <td>...</td>\n      <td>...</td>\n      <td>...</td>\n      <td>...</td>\n    </tr>\n    <tr>\n      <th>988846</th>\n      <td>7E862701EE7A6A03</td>\n      <td>classic_bike</td>\n      <td>2023-12-20 17:55:41</td>\n      <td>2023-12-20 18:00:10</td>\n      <td>Heights Elevator</td>\n      <td>JC059</td>\n      <td>Bloomfield St &amp; 15 St</td>\n      <td>HB203</td>\n      <td>40.748720</td>\n      <td>-74.040487</td>\n      <td>40.754530</td>\n      <td>-74.026580</td>\n      <td>casual</td>\n    </tr>\n    <tr>\n      <th>988847</th>\n      <td>DFAF91AB91BE25DB</td>\n      <td>classic_bike</td>\n      <td>2023-12-13 14:36:43</td>\n      <td>2023-12-13 14:42:31</td>\n      <td>Heights Elevator</td>\n      <td>JC059</td>\n      <td>Bloomfield St &amp; 15 St</td>\n      <td>HB203</td>\n      <td>40.748767</td>\n      <td>-74.040470</td>\n      <td>40.754530</td>\n      <td>-74.026580</td>\n      <td>member</td>\n    </tr>\n    <tr>\n      <th>988848</th>\n      <td>AEE7B49E6EDFAE6F</td>\n      <td>classic_bike</td>\n      <td>2023-12-18 16:40:00</td>\n      <td>2023-12-18 16:45:45</td>\n      <td>6 St &amp; Grand St</td>\n      <td>HB302</td>\n      <td>Bloomfield St &amp; 15 St</td>\n      <td>HB203</td>\n      <td>40.744291</td>\n      <td>-74.034404</td>\n      <td>40.754530</td>\n      <td>-74.026580</td>\n      <td>member</td>\n    </tr>\n    <tr>\n      <th>988849</th>\n      <td>A38E98956AD72EFB</td>\n      <td>classic_bike</td>\n      <td>2023-12-02 13:42:51</td>\n      <td>2023-12-02 13:50:42</td>\n      <td>6 St &amp; Grand St</td>\n      <td>HB302</td>\n      <td>Bloomfield St &amp; 15 St</td>\n      <td>HB203</td>\n      <td>40.744398</td>\n      <td>-74.034501</td>\n      <td>40.754530</td>\n      <td>-74.026580</td>\n      <td>member</td>\n    </tr>\n    <tr>\n      <th>988850</th>\n      <td>F16E0B969D877368</td>\n      <td>classic_bike</td>\n      <td>2023-12-19 16:30:13</td>\n      <td>2023-12-19 16:36:54</td>\n      <td>6 St &amp; Grand St</td>\n      <td>HB302</td>\n      <td>Clinton St &amp; 7 St</td>\n      <td>HB303</td>\n      <td>40.744398</td>\n      <td>-74.034501</td>\n      <td>40.745420</td>\n      <td>-74.033320</td>\n      <td>member</td>\n    </tr>\n  </tbody>\n</table>\n<p>988851 rows × 13 columns</p>\n</div>"
     },
     "execution_count": 7,
     "metadata": {},
     "output_type": "execute_result"
    }
   ],
   "source": [
    "import pandas as pd\n",
    "\n",
    "df_list = []\n",
    "\n",
    "# Getting DataFrames from our .csv files using loop\n",
    "for i in range(1,13):\n",
    "    if i < 10:\n",
    "        df_list.append(pd.read_csv('data/JC-20230' + str(i) + '-citibike-tripdata.csv'))\n",
    "    else:\n",
    "        df_list.append(pd.read_csv('data/JC-2023' + str(i) + '-citibike-tripdata.csv'))\n",
    "combined_df = pd.concat(df_list)\n",
    "combined_df.reset_index(drop=True, inplace=True)\n",
    "# Let's see how many rows we got\n",
    "print('Total number of rows in Citi Bike dataset: ' + str(combined_df.shape[0]))\n",
    "combined_df.head(988851)"
   ],
   "metadata": {
    "collapsed": false,
    "ExecuteTime": {
     "end_time": "2024-02-28T03:51:59.479525Z",
     "start_time": "2024-02-28T03:51:57.402091Z"
    }
   },
   "id": "50157fa6bffb427b",
   "execution_count": 7
  },
  {
   "cell_type": "markdown",
   "source": [
    "# Examining null values"
   ],
   "metadata": {
    "collapsed": false
   },
   "id": "20c264d1b49258c0"
  },
  {
   "cell_type": "code",
   "outputs": [
    {
     "data": {
      "text/plain": "ride_id                  0\nrideable_type            0\nstarted_at               0\nended_at                 0\nstart_station_name      85\nstart_station_id        85\nend_station_name      3319\nend_station_id        3319\nstart_lat                0\nstart_lng                0\nend_lat                954\nend_lng                954\nmember_casual            0\ndtype: int64"
     },
     "execution_count": 8,
     "metadata": {},
     "output_type": "execute_result"
    }
   ],
   "source": [
    "combined_df.isnull().sum()\n"
   ],
   "metadata": {
    "collapsed": false,
    "ExecuteTime": {
     "end_time": "2024-02-28T03:52:00.275604Z",
     "start_time": "2024-02-28T03:51:59.481116Z"
    }
   },
   "id": "708f4abbb2922ea0",
   "execution_count": 8
  },
  {
   "cell_type": "markdown",
   "source": [
    "# As we can see there are missing 3319 values in columns end_station_name and end_station_id.\n",
    "# Let's figure out what can be the reason of that and how we can tackle this issue."
   ],
   "metadata": {
    "collapsed": false
   },
   "id": "5f8bb93edbd0b8ca"
  },
  {
   "cell_type": "code",
   "outputs": [
    {
     "data": {
      "text/plain": "                 ride_id  rideable_type           started_at  \\\n448     8EA045BBA37A0719   classic_bike  2023-01-06 17:51:41   \n547     035683025D51ACA0   classic_bike  2023-01-28 23:03:42   \n549     ECA9E0C8111549F0  electric_bike  2023-01-21 01:45:25   \n567     68759C3009682643   classic_bike  2023-01-27 09:01:26   \n569     A7441B9B51909946   classic_bike  2023-01-13 16:03:30   \n...                  ...            ...                  ...   \n983559  8C1705634913B6E7   classic_bike  2023-12-18 14:12:25   \n985729  EF861287AFC29122   classic_bike  2023-12-13 07:42:49   \n985730  5C46CC1B233A9EE8   classic_bike  2023-12-08 08:13:25   \n987479  F9508E6CFB511D70   classic_bike  2023-12-10 12:18:10   \n987741  B9D3FDD2931A78D3   classic_bike  2023-12-27 05:21:37   \n\n                   ended_at                        start_station_name  \\\n448     2023-01-06 17:51:45  Hoboken Terminal - Hudson St & Hudson Pl   \n547     2023-01-30 00:03:34                             Hamilton Park   \n549     2023-01-22 02:45:21                         Madison St & 1 St   \n567     2023-01-27 09:06:37                             Hamilton Park   \n569     2023-01-13 17:08:06                            Pershing Field   \n...                     ...                                       ...   \n983559  2023-12-19 15:12:20                Hoboken Ave at Monmouth St   \n985729  2023-12-13 08:47:42                Hoboken Ave at Monmouth St   \n985730  2023-12-08 09:30:59                                  Union St   \n987479  2023-12-10 13:36:55                         Madison St & 1 St   \n987741  2023-12-27 06:19:47                         Madison St & 1 St   \n\n       start_station_id end_station_name end_station_id  start_lat  start_lng  \\\n448               HB101              NaN            NaN  40.736001 -74.030338   \n547               JC009              NaN            NaN  40.727596 -74.044247   \n549               HB402              NaN            NaN  40.738790 -74.039300   \n567               JC009              NaN            NaN  40.727553 -74.044259   \n569               JC024              NaN            NaN  40.742651 -74.051815   \n...                 ...              ...            ...        ...        ...   \n983559            JC105              NaN            NaN  40.735208 -74.046964   \n985729            JC105              NaN            NaN  40.735286 -74.046814   \n985730            JC051              NaN            NaN  40.718015 -74.083314   \n987479            HB402              NaN            NaN  40.738697 -74.039263   \n987741            HB402              NaN            NaN  40.738822 -74.039195   \n\n        end_lat  end_lng member_casual  \n448       40.74   -74.03        member  \n547         NaN      NaN        member  \n549         NaN      NaN        member  \n567       40.73   -74.04        member  \n569       40.73   -74.05        casual  \n...         ...      ...           ...  \n983559      NaN      NaN        casual  \n985729    40.73   -74.03        member  \n985730    40.73   -74.03        member  \n987479    40.75   -74.03        casual  \n987741    40.74   -74.03        member  \n\n[3319 rows x 13 columns]",
      "text/html": "<div>\n<style scoped>\n    .dataframe tbody tr th:only-of-type {\n        vertical-align: middle;\n    }\n\n    .dataframe tbody tr th {\n        vertical-align: top;\n    }\n\n    .dataframe thead th {\n        text-align: right;\n    }\n</style>\n<table border=\"1\" class=\"dataframe\">\n  <thead>\n    <tr style=\"text-align: right;\">\n      <th></th>\n      <th>ride_id</th>\n      <th>rideable_type</th>\n      <th>started_at</th>\n      <th>ended_at</th>\n      <th>start_station_name</th>\n      <th>start_station_id</th>\n      <th>end_station_name</th>\n      <th>end_station_id</th>\n      <th>start_lat</th>\n      <th>start_lng</th>\n      <th>end_lat</th>\n      <th>end_lng</th>\n      <th>member_casual</th>\n    </tr>\n  </thead>\n  <tbody>\n    <tr>\n      <th>448</th>\n      <td>8EA045BBA37A0719</td>\n      <td>classic_bike</td>\n      <td>2023-01-06 17:51:41</td>\n      <td>2023-01-06 17:51:45</td>\n      <td>Hoboken Terminal - Hudson St &amp; Hudson Pl</td>\n      <td>HB101</td>\n      <td>NaN</td>\n      <td>NaN</td>\n      <td>40.736001</td>\n      <td>-74.030338</td>\n      <td>40.74</td>\n      <td>-74.03</td>\n      <td>member</td>\n    </tr>\n    <tr>\n      <th>547</th>\n      <td>035683025D51ACA0</td>\n      <td>classic_bike</td>\n      <td>2023-01-28 23:03:42</td>\n      <td>2023-01-30 00:03:34</td>\n      <td>Hamilton Park</td>\n      <td>JC009</td>\n      <td>NaN</td>\n      <td>NaN</td>\n      <td>40.727596</td>\n      <td>-74.044247</td>\n      <td>NaN</td>\n      <td>NaN</td>\n      <td>member</td>\n    </tr>\n    <tr>\n      <th>549</th>\n      <td>ECA9E0C8111549F0</td>\n      <td>electric_bike</td>\n      <td>2023-01-21 01:45:25</td>\n      <td>2023-01-22 02:45:21</td>\n      <td>Madison St &amp; 1 St</td>\n      <td>HB402</td>\n      <td>NaN</td>\n      <td>NaN</td>\n      <td>40.738790</td>\n      <td>-74.039300</td>\n      <td>NaN</td>\n      <td>NaN</td>\n      <td>member</td>\n    </tr>\n    <tr>\n      <th>567</th>\n      <td>68759C3009682643</td>\n      <td>classic_bike</td>\n      <td>2023-01-27 09:01:26</td>\n      <td>2023-01-27 09:06:37</td>\n      <td>Hamilton Park</td>\n      <td>JC009</td>\n      <td>NaN</td>\n      <td>NaN</td>\n      <td>40.727553</td>\n      <td>-74.044259</td>\n      <td>40.73</td>\n      <td>-74.04</td>\n      <td>member</td>\n    </tr>\n    <tr>\n      <th>569</th>\n      <td>A7441B9B51909946</td>\n      <td>classic_bike</td>\n      <td>2023-01-13 16:03:30</td>\n      <td>2023-01-13 17:08:06</td>\n      <td>Pershing Field</td>\n      <td>JC024</td>\n      <td>NaN</td>\n      <td>NaN</td>\n      <td>40.742651</td>\n      <td>-74.051815</td>\n      <td>40.73</td>\n      <td>-74.05</td>\n      <td>casual</td>\n    </tr>\n    <tr>\n      <th>...</th>\n      <td>...</td>\n      <td>...</td>\n      <td>...</td>\n      <td>...</td>\n      <td>...</td>\n      <td>...</td>\n      <td>...</td>\n      <td>...</td>\n      <td>...</td>\n      <td>...</td>\n      <td>...</td>\n      <td>...</td>\n      <td>...</td>\n    </tr>\n    <tr>\n      <th>983559</th>\n      <td>8C1705634913B6E7</td>\n      <td>classic_bike</td>\n      <td>2023-12-18 14:12:25</td>\n      <td>2023-12-19 15:12:20</td>\n      <td>Hoboken Ave at Monmouth St</td>\n      <td>JC105</td>\n      <td>NaN</td>\n      <td>NaN</td>\n      <td>40.735208</td>\n      <td>-74.046964</td>\n      <td>NaN</td>\n      <td>NaN</td>\n      <td>casual</td>\n    </tr>\n    <tr>\n      <th>985729</th>\n      <td>EF861287AFC29122</td>\n      <td>classic_bike</td>\n      <td>2023-12-13 07:42:49</td>\n      <td>2023-12-13 08:47:42</td>\n      <td>Hoboken Ave at Monmouth St</td>\n      <td>JC105</td>\n      <td>NaN</td>\n      <td>NaN</td>\n      <td>40.735286</td>\n      <td>-74.046814</td>\n      <td>40.73</td>\n      <td>-74.03</td>\n      <td>member</td>\n    </tr>\n    <tr>\n      <th>985730</th>\n      <td>5C46CC1B233A9EE8</td>\n      <td>classic_bike</td>\n      <td>2023-12-08 08:13:25</td>\n      <td>2023-12-08 09:30:59</td>\n      <td>Union St</td>\n      <td>JC051</td>\n      <td>NaN</td>\n      <td>NaN</td>\n      <td>40.718015</td>\n      <td>-74.083314</td>\n      <td>40.73</td>\n      <td>-74.03</td>\n      <td>member</td>\n    </tr>\n    <tr>\n      <th>987479</th>\n      <td>F9508E6CFB511D70</td>\n      <td>classic_bike</td>\n      <td>2023-12-10 12:18:10</td>\n      <td>2023-12-10 13:36:55</td>\n      <td>Madison St &amp; 1 St</td>\n      <td>HB402</td>\n      <td>NaN</td>\n      <td>NaN</td>\n      <td>40.738697</td>\n      <td>-74.039263</td>\n      <td>40.75</td>\n      <td>-74.03</td>\n      <td>casual</td>\n    </tr>\n    <tr>\n      <th>987741</th>\n      <td>B9D3FDD2931A78D3</td>\n      <td>classic_bike</td>\n      <td>2023-12-27 05:21:37</td>\n      <td>2023-12-27 06:19:47</td>\n      <td>Madison St &amp; 1 St</td>\n      <td>HB402</td>\n      <td>NaN</td>\n      <td>NaN</td>\n      <td>40.738822</td>\n      <td>-74.039195</td>\n      <td>40.74</td>\n      <td>-74.03</td>\n      <td>member</td>\n    </tr>\n  </tbody>\n</table>\n<p>3319 rows × 13 columns</p>\n</div>"
     },
     "execution_count": 9,
     "metadata": {},
     "output_type": "execute_result"
    }
   ],
   "source": [
    "combined_df[combined_df['end_station_name'].isnull()] "
   ],
   "metadata": {
    "collapsed": false,
    "ExecuteTime": {
     "end_time": "2024-02-28T03:52:00.401835Z",
     "start_time": "2024-02-28T03:52:00.276585Z"
    }
   },
   "id": "33234ba398d58396",
   "execution_count": 9
  },
  {
   "cell_type": "markdown",
   "source": [
    "# As we can the data is Missing Completely At Random, so in this case it's better to just remove those rows because some of them show abnormal high trip duration."
   ],
   "metadata": {
    "collapsed": false
   },
   "id": "fea6e350ac646e7"
  },
  {
   "cell_type": "code",
   "outputs": [],
   "source": [
    "combined_df.dropna(inplace=True)"
   ],
   "metadata": {
    "collapsed": false,
    "ExecuteTime": {
     "end_time": "2024-02-28T03:52:01.266516Z",
     "start_time": "2024-02-28T03:52:00.403706Z"
    }
   },
   "id": "778699e297407e0b",
   "execution_count": 10
  },
  {
   "cell_type": "markdown",
   "source": [
    "# Creating \"Duration\" column."
   ],
   "metadata": {
    "collapsed": false
   },
   "id": "a76510223de76dd"
  },
  {
   "cell_type": "code",
   "outputs": [
    {
     "data": {
      "text/plain": "                 ride_id  rideable_type          started_at  \\\n0       0905B18B365C9D20   classic_bike 2023-01-28 09:18:10   \n1       B4F0562B05CB5404  electric_bike 2023-01-23 20:10:12   \n2       5ABF032895F5D87E   classic_bike 2023-01-29 15:27:04   \n3       E7E1F9C53976D2F9   classic_bike 2023-01-24 18:35:08   \n4       323165780CA0734B   classic_bike 2023-01-21 20:44:09   \n...                  ...            ...                 ...   \n988846  7E862701EE7A6A03   classic_bike 2023-12-20 17:55:41   \n988847  DFAF91AB91BE25DB   classic_bike 2023-12-13 14:36:43   \n988848  AEE7B49E6EDFAE6F   classic_bike 2023-12-18 16:40:00   \n988849  A38E98956AD72EFB   classic_bike 2023-12-02 13:42:51   \n988850  F16E0B969D877368   classic_bike 2023-12-19 16:30:13   \n\n                  ended_at                        start_station_name  \\\n0      2023-01-28 09:28:52  Hoboken Terminal - Hudson St & Hudson Pl   \n1      2023-01-23 20:18:27  Hoboken Terminal - Hudson St & Hudson Pl   \n2      2023-01-29 15:32:38  Hoboken Terminal - Hudson St & Hudson Pl   \n3      2023-01-24 18:42:13  Hoboken Terminal - Hudson St & Hudson Pl   \n4      2023-01-21 20:48:08                             Hamilton Park   \n...                    ...                                       ...   \n988846 2023-12-20 18:00:10                          Heights Elevator   \n988847 2023-12-13 14:42:31                          Heights Elevator   \n988848 2023-12-18 16:45:45                           6 St & Grand St   \n988849 2023-12-02 13:50:42                           6 St & Grand St   \n988850 2023-12-19 16:36:54                           6 St & Grand St   \n\n       start_station_id                            end_station_name  \\\n0                 HB101                               Hamilton Park   \n1                 HB101  Southwest Park - Jackson St & Observer Hwy   \n2                 HB101                          Marshall St & 2 St   \n3                 HB101                               Hamilton Park   \n4                 JC009                                Manila & 1st   \n...                 ...                                         ...   \n988846            JC059                       Bloomfield St & 15 St   \n988847            JC059                       Bloomfield St & 15 St   \n988848            HB302                       Bloomfield St & 15 St   \n988849            HB302                       Bloomfield St & 15 St   \n988850            HB302                           Clinton St & 7 St   \n\n       end_station_id  start_lat  start_lng    end_lat    end_lng  \\\n0               JC009  40.735938 -74.030305  40.727596 -74.044247   \n1               HB401  40.735938 -74.030305  40.737551 -74.041664   \n2               HB408  40.735944 -74.030383  40.740802 -74.042521   \n3               JC009  40.735986 -74.030364  40.727596 -74.044247   \n4               JC082  40.727596 -74.044247  40.721651 -74.042884   \n...               ...        ...        ...        ...        ...   \n988846          HB203  40.748720 -74.040487  40.754530 -74.026580   \n988847          HB203  40.748767 -74.040470  40.754530 -74.026580   \n988848          HB203  40.744291 -74.034404  40.754530 -74.026580   \n988849          HB203  40.744398 -74.034501  40.754530 -74.026580   \n988850          HB303  40.744398 -74.034501  40.745420 -74.033320   \n\n       member_casual  duration_min  \n0             member         10.70  \n1             member          8.25  \n2             member          5.57  \n3             member          7.08  \n4             member          3.98  \n...              ...           ...  \n988846        casual          4.48  \n988847        member          5.80  \n988848        member          5.75  \n988849        member          7.85  \n988850        member          6.68  \n\n[985519 rows x 14 columns]",
      "text/html": "<div>\n<style scoped>\n    .dataframe tbody tr th:only-of-type {\n        vertical-align: middle;\n    }\n\n    .dataframe tbody tr th {\n        vertical-align: top;\n    }\n\n    .dataframe thead th {\n        text-align: right;\n    }\n</style>\n<table border=\"1\" class=\"dataframe\">\n  <thead>\n    <tr style=\"text-align: right;\">\n      <th></th>\n      <th>ride_id</th>\n      <th>rideable_type</th>\n      <th>started_at</th>\n      <th>ended_at</th>\n      <th>start_station_name</th>\n      <th>start_station_id</th>\n      <th>end_station_name</th>\n      <th>end_station_id</th>\n      <th>start_lat</th>\n      <th>start_lng</th>\n      <th>end_lat</th>\n      <th>end_lng</th>\n      <th>member_casual</th>\n      <th>duration_min</th>\n    </tr>\n  </thead>\n  <tbody>\n    <tr>\n      <th>0</th>\n      <td>0905B18B365C9D20</td>\n      <td>classic_bike</td>\n      <td>2023-01-28 09:18:10</td>\n      <td>2023-01-28 09:28:52</td>\n      <td>Hoboken Terminal - Hudson St &amp; Hudson Pl</td>\n      <td>HB101</td>\n      <td>Hamilton Park</td>\n      <td>JC009</td>\n      <td>40.735938</td>\n      <td>-74.030305</td>\n      <td>40.727596</td>\n      <td>-74.044247</td>\n      <td>member</td>\n      <td>10.70</td>\n    </tr>\n    <tr>\n      <th>1</th>\n      <td>B4F0562B05CB5404</td>\n      <td>electric_bike</td>\n      <td>2023-01-23 20:10:12</td>\n      <td>2023-01-23 20:18:27</td>\n      <td>Hoboken Terminal - Hudson St &amp; Hudson Pl</td>\n      <td>HB101</td>\n      <td>Southwest Park - Jackson St &amp; Observer Hwy</td>\n      <td>HB401</td>\n      <td>40.735938</td>\n      <td>-74.030305</td>\n      <td>40.737551</td>\n      <td>-74.041664</td>\n      <td>member</td>\n      <td>8.25</td>\n    </tr>\n    <tr>\n      <th>2</th>\n      <td>5ABF032895F5D87E</td>\n      <td>classic_bike</td>\n      <td>2023-01-29 15:27:04</td>\n      <td>2023-01-29 15:32:38</td>\n      <td>Hoboken Terminal - Hudson St &amp; Hudson Pl</td>\n      <td>HB101</td>\n      <td>Marshall St &amp; 2 St</td>\n      <td>HB408</td>\n      <td>40.735944</td>\n      <td>-74.030383</td>\n      <td>40.740802</td>\n      <td>-74.042521</td>\n      <td>member</td>\n      <td>5.57</td>\n    </tr>\n    <tr>\n      <th>3</th>\n      <td>E7E1F9C53976D2F9</td>\n      <td>classic_bike</td>\n      <td>2023-01-24 18:35:08</td>\n      <td>2023-01-24 18:42:13</td>\n      <td>Hoboken Terminal - Hudson St &amp; Hudson Pl</td>\n      <td>HB101</td>\n      <td>Hamilton Park</td>\n      <td>JC009</td>\n      <td>40.735986</td>\n      <td>-74.030364</td>\n      <td>40.727596</td>\n      <td>-74.044247</td>\n      <td>member</td>\n      <td>7.08</td>\n    </tr>\n    <tr>\n      <th>4</th>\n      <td>323165780CA0734B</td>\n      <td>classic_bike</td>\n      <td>2023-01-21 20:44:09</td>\n      <td>2023-01-21 20:48:08</td>\n      <td>Hamilton Park</td>\n      <td>JC009</td>\n      <td>Manila &amp; 1st</td>\n      <td>JC082</td>\n      <td>40.727596</td>\n      <td>-74.044247</td>\n      <td>40.721651</td>\n      <td>-74.042884</td>\n      <td>member</td>\n      <td>3.98</td>\n    </tr>\n    <tr>\n      <th>...</th>\n      <td>...</td>\n      <td>...</td>\n      <td>...</td>\n      <td>...</td>\n      <td>...</td>\n      <td>...</td>\n      <td>...</td>\n      <td>...</td>\n      <td>...</td>\n      <td>...</td>\n      <td>...</td>\n      <td>...</td>\n      <td>...</td>\n      <td>...</td>\n    </tr>\n    <tr>\n      <th>988846</th>\n      <td>7E862701EE7A6A03</td>\n      <td>classic_bike</td>\n      <td>2023-12-20 17:55:41</td>\n      <td>2023-12-20 18:00:10</td>\n      <td>Heights Elevator</td>\n      <td>JC059</td>\n      <td>Bloomfield St &amp; 15 St</td>\n      <td>HB203</td>\n      <td>40.748720</td>\n      <td>-74.040487</td>\n      <td>40.754530</td>\n      <td>-74.026580</td>\n      <td>casual</td>\n      <td>4.48</td>\n    </tr>\n    <tr>\n      <th>988847</th>\n      <td>DFAF91AB91BE25DB</td>\n      <td>classic_bike</td>\n      <td>2023-12-13 14:36:43</td>\n      <td>2023-12-13 14:42:31</td>\n      <td>Heights Elevator</td>\n      <td>JC059</td>\n      <td>Bloomfield St &amp; 15 St</td>\n      <td>HB203</td>\n      <td>40.748767</td>\n      <td>-74.040470</td>\n      <td>40.754530</td>\n      <td>-74.026580</td>\n      <td>member</td>\n      <td>5.80</td>\n    </tr>\n    <tr>\n      <th>988848</th>\n      <td>AEE7B49E6EDFAE6F</td>\n      <td>classic_bike</td>\n      <td>2023-12-18 16:40:00</td>\n      <td>2023-12-18 16:45:45</td>\n      <td>6 St &amp; Grand St</td>\n      <td>HB302</td>\n      <td>Bloomfield St &amp; 15 St</td>\n      <td>HB203</td>\n      <td>40.744291</td>\n      <td>-74.034404</td>\n      <td>40.754530</td>\n      <td>-74.026580</td>\n      <td>member</td>\n      <td>5.75</td>\n    </tr>\n    <tr>\n      <th>988849</th>\n      <td>A38E98956AD72EFB</td>\n      <td>classic_bike</td>\n      <td>2023-12-02 13:42:51</td>\n      <td>2023-12-02 13:50:42</td>\n      <td>6 St &amp; Grand St</td>\n      <td>HB302</td>\n      <td>Bloomfield St &amp; 15 St</td>\n      <td>HB203</td>\n      <td>40.744398</td>\n      <td>-74.034501</td>\n      <td>40.754530</td>\n      <td>-74.026580</td>\n      <td>member</td>\n      <td>7.85</td>\n    </tr>\n    <tr>\n      <th>988850</th>\n      <td>F16E0B969D877368</td>\n      <td>classic_bike</td>\n      <td>2023-12-19 16:30:13</td>\n      <td>2023-12-19 16:36:54</td>\n      <td>6 St &amp; Grand St</td>\n      <td>HB302</td>\n      <td>Clinton St &amp; 7 St</td>\n      <td>HB303</td>\n      <td>40.744398</td>\n      <td>-74.034501</td>\n      <td>40.745420</td>\n      <td>-74.033320</td>\n      <td>member</td>\n      <td>6.68</td>\n    </tr>\n  </tbody>\n</table>\n<p>985519 rows × 14 columns</p>\n</div>"
     },
     "execution_count": 11,
     "metadata": {},
     "output_type": "execute_result"
    }
   ],
   "source": [
    "# First, ensure that start_end and start_at are in datetime format\n",
    "combined_df['started_at'] = pd.to_datetime(combined_df['started_at'])\n",
    "combined_df['ended_at'] = pd.to_datetime(combined_df['ended_at'])\n",
    "\n",
    "# Subtract ended_at from started_at to create the duration column\n",
    "combined_df['duration_min'] = ((combined_df['ended_at'] - combined_df['started_at']).dt.total_seconds() / 60).round(2)\n",
    "combined_df.to_csv('data/ridership.csv', index=False)\n",
    "combined_df"
   ],
   "metadata": {
    "collapsed": false,
    "ExecuteTime": {
     "end_time": "2024-02-28T03:52:09.400614Z",
     "start_time": "2024-02-28T03:52:01.267434Z"
    }
   },
   "id": "7587e930acadd89a",
   "execution_count": 11
  },
  {
   "cell_type": "markdown",
   "source": [
    "# Now we'll examine our weather data. We will try to find unnecessary columns and drop them. "
   ],
   "metadata": {
    "collapsed": false
   },
   "id": "cd08f5dae0f5faa7"
  },
  {
   "cell_type": "code",
   "outputs": [
    {
     "data": {
      "text/plain": "           date  tavg  tmin  tmax  prcp  snow   wdir  wspd    pres\n0    2023-01-01  11.3   7.2  14.4   0.0   0.0  241.0  13.0  1012.6\n1    2023-01-02   9.9   6.1  15.0   1.3   0.0  231.0   7.9  1019.5\n2    2023-01-03  11.2   9.4  13.3  11.4   0.0    4.0   5.4  1014.1\n3    2023-01-04  13.7  10.0  18.9   0.5   0.0  164.0   9.0  1010.0\n4    2023-01-05  11.4   8.3  12.8   0.0   0.0   57.0   6.8  1013.5\n..          ...   ...   ...   ...   ...   ...    ...   ...     ...\n360  2023-12-27   8.1   7.2  10.6   8.6   0.0   23.0   9.4  1017.8\n361  2023-12-28  10.7  10.0  12.8  38.4   0.0   20.0  16.9  1005.5\n362  2023-12-29  10.7   7.8  13.9   1.3   NaN  273.0  12.2  1004.5\n363  2023-12-30   7.1   2.8   8.3   0.0   0.0  269.0  19.8  1004.6\n364  2023-12-31   6.0   4.4   6.7   0.0   0.0  280.0  13.6  1014.6\n\n[365 rows x 9 columns]",
      "text/html": "<div>\n<style scoped>\n    .dataframe tbody tr th:only-of-type {\n        vertical-align: middle;\n    }\n\n    .dataframe tbody tr th {\n        vertical-align: top;\n    }\n\n    .dataframe thead th {\n        text-align: right;\n    }\n</style>\n<table border=\"1\" class=\"dataframe\">\n  <thead>\n    <tr style=\"text-align: right;\">\n      <th></th>\n      <th>date</th>\n      <th>tavg</th>\n      <th>tmin</th>\n      <th>tmax</th>\n      <th>prcp</th>\n      <th>snow</th>\n      <th>wdir</th>\n      <th>wspd</th>\n      <th>pres</th>\n    </tr>\n  </thead>\n  <tbody>\n    <tr>\n      <th>0</th>\n      <td>2023-01-01</td>\n      <td>11.3</td>\n      <td>7.2</td>\n      <td>14.4</td>\n      <td>0.0</td>\n      <td>0.0</td>\n      <td>241.0</td>\n      <td>13.0</td>\n      <td>1012.6</td>\n    </tr>\n    <tr>\n      <th>1</th>\n      <td>2023-01-02</td>\n      <td>9.9</td>\n      <td>6.1</td>\n      <td>15.0</td>\n      <td>1.3</td>\n      <td>0.0</td>\n      <td>231.0</td>\n      <td>7.9</td>\n      <td>1019.5</td>\n    </tr>\n    <tr>\n      <th>2</th>\n      <td>2023-01-03</td>\n      <td>11.2</td>\n      <td>9.4</td>\n      <td>13.3</td>\n      <td>11.4</td>\n      <td>0.0</td>\n      <td>4.0</td>\n      <td>5.4</td>\n      <td>1014.1</td>\n    </tr>\n    <tr>\n      <th>3</th>\n      <td>2023-01-04</td>\n      <td>13.7</td>\n      <td>10.0</td>\n      <td>18.9</td>\n      <td>0.5</td>\n      <td>0.0</td>\n      <td>164.0</td>\n      <td>9.0</td>\n      <td>1010.0</td>\n    </tr>\n    <tr>\n      <th>4</th>\n      <td>2023-01-05</td>\n      <td>11.4</td>\n      <td>8.3</td>\n      <td>12.8</td>\n      <td>0.0</td>\n      <td>0.0</td>\n      <td>57.0</td>\n      <td>6.8</td>\n      <td>1013.5</td>\n    </tr>\n    <tr>\n      <th>...</th>\n      <td>...</td>\n      <td>...</td>\n      <td>...</td>\n      <td>...</td>\n      <td>...</td>\n      <td>...</td>\n      <td>...</td>\n      <td>...</td>\n      <td>...</td>\n    </tr>\n    <tr>\n      <th>360</th>\n      <td>2023-12-27</td>\n      <td>8.1</td>\n      <td>7.2</td>\n      <td>10.6</td>\n      <td>8.6</td>\n      <td>0.0</td>\n      <td>23.0</td>\n      <td>9.4</td>\n      <td>1017.8</td>\n    </tr>\n    <tr>\n      <th>361</th>\n      <td>2023-12-28</td>\n      <td>10.7</td>\n      <td>10.0</td>\n      <td>12.8</td>\n      <td>38.4</td>\n      <td>0.0</td>\n      <td>20.0</td>\n      <td>16.9</td>\n      <td>1005.5</td>\n    </tr>\n    <tr>\n      <th>362</th>\n      <td>2023-12-29</td>\n      <td>10.7</td>\n      <td>7.8</td>\n      <td>13.9</td>\n      <td>1.3</td>\n      <td>NaN</td>\n      <td>273.0</td>\n      <td>12.2</td>\n      <td>1004.5</td>\n    </tr>\n    <tr>\n      <th>363</th>\n      <td>2023-12-30</td>\n      <td>7.1</td>\n      <td>2.8</td>\n      <td>8.3</td>\n      <td>0.0</td>\n      <td>0.0</td>\n      <td>269.0</td>\n      <td>19.8</td>\n      <td>1004.6</td>\n    </tr>\n    <tr>\n      <th>364</th>\n      <td>2023-12-31</td>\n      <td>6.0</td>\n      <td>4.4</td>\n      <td>6.7</td>\n      <td>0.0</td>\n      <td>0.0</td>\n      <td>280.0</td>\n      <td>13.6</td>\n      <td>1014.6</td>\n    </tr>\n  </tbody>\n</table>\n<p>365 rows × 9 columns</p>\n</div>"
     },
     "execution_count": 12,
     "metadata": {},
     "output_type": "execute_result"
    }
   ],
   "source": [
    "# Reading csv file into DataFrame\n",
    "w_df = pd.read_csv('data/export.csv')\n",
    "# Removing unnecessary columns\n",
    "w_df.drop(['wpgt', 'tsun'], axis=1, inplace=True)\n",
    "w_df.to_csv('data/weather.csv', index=False)\n",
    "# No Rain: 0 mm\n",
    "# Light Rain: Greater than 0 mm up to 2.5 mm per day\n",
    "# Moderate Rain: Greater than 2.5 mm up to 10 mm per day\n",
    "# Heavy Rain: Greater than 10 mm up to 50 mm per day\n",
    "# Very Heavy Rain: Greater than 50 mm per day\n",
    "# Extreme Rain: Significantly more than 50 mm in a day, often leading to flooding and other hydrological impacts.\n",
    "w_df"
   ],
   "metadata": {
    "collapsed": false,
    "ExecuteTime": {
     "end_time": "2024-02-28T03:52:09.415151Z",
     "start_time": "2024-02-28T03:52:09.401715Z"
    }
   },
   "id": "dbd4e2b8c2febc2c",
   "execution_count": 12
  },
  {
   "cell_type": "markdown",
   "source": [
    "# Now our data is ready. There was no missing data that can mislead us so I left all rows untouched."
   ],
   "metadata": {
    "collapsed": false
   },
   "id": "9893ed2d93e34443"
  }
 ],
 "metadata": {
  "kernelspec": {
   "display_name": "Python 3",
   "language": "python",
   "name": "python3"
  },
  "language_info": {
   "codemirror_mode": {
    "name": "ipython",
    "version": 2
   },
   "file_extension": ".py",
   "mimetype": "text/x-python",
   "name": "python",
   "nbconvert_exporter": "python",
   "pygments_lexer": "ipython2",
   "version": "2.7.6"
  }
 },
 "nbformat": 4,
 "nbformat_minor": 5
}
