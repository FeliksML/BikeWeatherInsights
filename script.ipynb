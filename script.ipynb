{
 "cells": [
  {
   "cell_type": "markdown",
   "source": [
    "# First lets inspect and clean our data"
   ],
   "metadata": {
    "collapsed": false
   },
   "id": "954e9365c45b5e9e"
  },
  {
   "cell_type": "code",
   "outputs": [
    {
     "name": "stdout",
     "output_type": "stream",
     "text": [
      "Total number of rows in Citi Bike dataset: 988851\n"
     ]
    },
    {
     "data": {
      "text/plain": "                 ride_id  rideable_type           started_at  \\\n0       0905B18B365C9D20   classic_bike  2023-01-28 09:18:10   \n1       B4F0562B05CB5404  electric_bike  2023-01-23 20:10:12   \n2       5ABF032895F5D87E   classic_bike  2023-01-29 15:27:04   \n3       E7E1F9C53976D2F9   classic_bike  2023-01-24 18:35:08   \n4       323165780CA0734B   classic_bike  2023-01-21 20:44:09   \n...                  ...            ...                  ...   \n988846  7E862701EE7A6A03   classic_bike  2023-12-20 17:55:41   \n988847  DFAF91AB91BE25DB   classic_bike  2023-12-13 14:36:43   \n988848  AEE7B49E6EDFAE6F   classic_bike  2023-12-18 16:40:00   \n988849  A38E98956AD72EFB   classic_bike  2023-12-02 13:42:51   \n988850  F16E0B969D877368   classic_bike  2023-12-19 16:30:13   \n\n                   ended_at                        start_station_name  \\\n0       2023-01-28 09:28:52  Hoboken Terminal - Hudson St & Hudson Pl   \n1       2023-01-23 20:18:27  Hoboken Terminal - Hudson St & Hudson Pl   \n2       2023-01-29 15:32:38  Hoboken Terminal - Hudson St & Hudson Pl   \n3       2023-01-24 18:42:13  Hoboken Terminal - Hudson St & Hudson Pl   \n4       2023-01-21 20:48:08                             Hamilton Park   \n...                     ...                                       ...   \n988846  2023-12-20 18:00:10                          Heights Elevator   \n988847  2023-12-13 14:42:31                          Heights Elevator   \n988848  2023-12-18 16:45:45                           6 St & Grand St   \n988849  2023-12-02 13:50:42                           6 St & Grand St   \n988850  2023-12-19 16:36:54                           6 St & Grand St   \n\n       start_station_id                            end_station_name  \\\n0                 HB101                               Hamilton Park   \n1                 HB101  Southwest Park - Jackson St & Observer Hwy   \n2                 HB101                          Marshall St & 2 St   \n3                 HB101                               Hamilton Park   \n4                 JC009                                Manila & 1st   \n...                 ...                                         ...   \n988846            JC059                       Bloomfield St & 15 St   \n988847            JC059                       Bloomfield St & 15 St   \n988848            HB302                       Bloomfield St & 15 St   \n988849            HB302                       Bloomfield St & 15 St   \n988850            HB302                           Clinton St & 7 St   \n\n       end_station_id  start_lat  start_lng    end_lat    end_lng  \\\n0               JC009  40.735938 -74.030305  40.727596 -74.044247   \n1               HB401  40.735938 -74.030305  40.737551 -74.041664   \n2               HB408  40.735944 -74.030383  40.740802 -74.042521   \n3               JC009  40.735986 -74.030364  40.727596 -74.044247   \n4               JC082  40.727596 -74.044247  40.721651 -74.042884   \n...               ...        ...        ...        ...        ...   \n988846          HB203  40.748720 -74.040487  40.754530 -74.026580   \n988847          HB203  40.748767 -74.040470  40.754530 -74.026580   \n988848          HB203  40.744291 -74.034404  40.754530 -74.026580   \n988849          HB203  40.744398 -74.034501  40.754530 -74.026580   \n988850          HB303  40.744398 -74.034501  40.745420 -74.033320   \n\n       member_casual  \n0             member  \n1             member  \n2             member  \n3             member  \n4             member  \n...              ...  \n988846        casual  \n988847        member  \n988848        member  \n988849        member  \n988850        member  \n\n[988851 rows x 13 columns]",
      "text/html": "<div>\n<style scoped>\n    .dataframe tbody tr th:only-of-type {\n        vertical-align: middle;\n    }\n\n    .dataframe tbody tr th {\n        vertical-align: top;\n    }\n\n    .dataframe thead th {\n        text-align: right;\n    }\n</style>\n<table border=\"1\" class=\"dataframe\">\n  <thead>\n    <tr style=\"text-align: right;\">\n      <th></th>\n      <th>ride_id</th>\n      <th>rideable_type</th>\n      <th>started_at</th>\n      <th>ended_at</th>\n      <th>start_station_name</th>\n      <th>start_station_id</th>\n      <th>end_station_name</th>\n      <th>end_station_id</th>\n      <th>start_lat</th>\n      <th>start_lng</th>\n      <th>end_lat</th>\n      <th>end_lng</th>\n      <th>member_casual</th>\n    </tr>\n  </thead>\n  <tbody>\n    <tr>\n      <th>0</th>\n      <td>0905B18B365C9D20</td>\n      <td>classic_bike</td>\n      <td>2023-01-28 09:18:10</td>\n      <td>2023-01-28 09:28:52</td>\n      <td>Hoboken Terminal - Hudson St &amp; Hudson Pl</td>\n      <td>HB101</td>\n      <td>Hamilton Park</td>\n      <td>JC009</td>\n      <td>40.735938</td>\n      <td>-74.030305</td>\n      <td>40.727596</td>\n      <td>-74.044247</td>\n      <td>member</td>\n    </tr>\n    <tr>\n      <th>1</th>\n      <td>B4F0562B05CB5404</td>\n      <td>electric_bike</td>\n      <td>2023-01-23 20:10:12</td>\n      <td>2023-01-23 20:18:27</td>\n      <td>Hoboken Terminal - Hudson St &amp; Hudson Pl</td>\n      <td>HB101</td>\n      <td>Southwest Park - Jackson St &amp; Observer Hwy</td>\n      <td>HB401</td>\n      <td>40.735938</td>\n      <td>-74.030305</td>\n      <td>40.737551</td>\n      <td>-74.041664</td>\n      <td>member</td>\n    </tr>\n    <tr>\n      <th>2</th>\n      <td>5ABF032895F5D87E</td>\n      <td>classic_bike</td>\n      <td>2023-01-29 15:27:04</td>\n      <td>2023-01-29 15:32:38</td>\n      <td>Hoboken Terminal - Hudson St &amp; Hudson Pl</td>\n      <td>HB101</td>\n      <td>Marshall St &amp; 2 St</td>\n      <td>HB408</td>\n      <td>40.735944</td>\n      <td>-74.030383</td>\n      <td>40.740802</td>\n      <td>-74.042521</td>\n      <td>member</td>\n    </tr>\n    <tr>\n      <th>3</th>\n      <td>E7E1F9C53976D2F9</td>\n      <td>classic_bike</td>\n      <td>2023-01-24 18:35:08</td>\n      <td>2023-01-24 18:42:13</td>\n      <td>Hoboken Terminal - Hudson St &amp; Hudson Pl</td>\n      <td>HB101</td>\n      <td>Hamilton Park</td>\n      <td>JC009</td>\n      <td>40.735986</td>\n      <td>-74.030364</td>\n      <td>40.727596</td>\n      <td>-74.044247</td>\n      <td>member</td>\n    </tr>\n    <tr>\n      <th>4</th>\n      <td>323165780CA0734B</td>\n      <td>classic_bike</td>\n      <td>2023-01-21 20:44:09</td>\n      <td>2023-01-21 20:48:08</td>\n      <td>Hamilton Park</td>\n      <td>JC009</td>\n      <td>Manila &amp; 1st</td>\n      <td>JC082</td>\n      <td>40.727596</td>\n      <td>-74.044247</td>\n      <td>40.721651</td>\n      <td>-74.042884</td>\n      <td>member</td>\n    </tr>\n    <tr>\n      <th>...</th>\n      <td>...</td>\n      <td>...</td>\n      <td>...</td>\n      <td>...</td>\n      <td>...</td>\n      <td>...</td>\n      <td>...</td>\n      <td>...</td>\n      <td>...</td>\n      <td>...</td>\n      <td>...</td>\n      <td>...</td>\n      <td>...</td>\n    </tr>\n    <tr>\n      <th>988846</th>\n      <td>7E862701EE7A6A03</td>\n      <td>classic_bike</td>\n      <td>2023-12-20 17:55:41</td>\n      <td>2023-12-20 18:00:10</td>\n      <td>Heights Elevator</td>\n      <td>JC059</td>\n      <td>Bloomfield St &amp; 15 St</td>\n      <td>HB203</td>\n      <td>40.748720</td>\n      <td>-74.040487</td>\n      <td>40.754530</td>\n      <td>-74.026580</td>\n      <td>casual</td>\n    </tr>\n    <tr>\n      <th>988847</th>\n      <td>DFAF91AB91BE25DB</td>\n      <td>classic_bike</td>\n      <td>2023-12-13 14:36:43</td>\n      <td>2023-12-13 14:42:31</td>\n      <td>Heights Elevator</td>\n      <td>JC059</td>\n      <td>Bloomfield St &amp; 15 St</td>\n      <td>HB203</td>\n      <td>40.748767</td>\n      <td>-74.040470</td>\n      <td>40.754530</td>\n      <td>-74.026580</td>\n      <td>member</td>\n    </tr>\n    <tr>\n      <th>988848</th>\n      <td>AEE7B49E6EDFAE6F</td>\n      <td>classic_bike</td>\n      <td>2023-12-18 16:40:00</td>\n      <td>2023-12-18 16:45:45</td>\n      <td>6 St &amp; Grand St</td>\n      <td>HB302</td>\n      <td>Bloomfield St &amp; 15 St</td>\n      <td>HB203</td>\n      <td>40.744291</td>\n      <td>-74.034404</td>\n      <td>40.754530</td>\n      <td>-74.026580</td>\n      <td>member</td>\n    </tr>\n    <tr>\n      <th>988849</th>\n      <td>A38E98956AD72EFB</td>\n      <td>classic_bike</td>\n      <td>2023-12-02 13:42:51</td>\n      <td>2023-12-02 13:50:42</td>\n      <td>6 St &amp; Grand St</td>\n      <td>HB302</td>\n      <td>Bloomfield St &amp; 15 St</td>\n      <td>HB203</td>\n      <td>40.744398</td>\n      <td>-74.034501</td>\n      <td>40.754530</td>\n      <td>-74.026580</td>\n      <td>member</td>\n    </tr>\n    <tr>\n      <th>988850</th>\n      <td>F16E0B969D877368</td>\n      <td>classic_bike</td>\n      <td>2023-12-19 16:30:13</td>\n      <td>2023-12-19 16:36:54</td>\n      <td>6 St &amp; Grand St</td>\n      <td>HB302</td>\n      <td>Clinton St &amp; 7 St</td>\n      <td>HB303</td>\n      <td>40.744398</td>\n      <td>-74.034501</td>\n      <td>40.745420</td>\n      <td>-74.033320</td>\n      <td>member</td>\n    </tr>\n  </tbody>\n</table>\n<p>988851 rows × 13 columns</p>\n</div>"
     },
     "execution_count": 28,
     "metadata": {},
     "output_type": "execute_result"
    }
   ],
   "source": [
    "import pandas as pd\n",
    "\n",
    "df_list = []\n",
    "\n",
    "# Getting DataFrames from our .csv files using loop\n",
    "for i in range(1,13):\n",
    "    if i < 10:\n",
    "        df_list.append(pd.read_csv('data/JC-20230' + str(i) + '-citibike-tripdata.csv'))\n",
    "    else:\n",
    "        df_list.append(pd.read_csv('data/JC-2023' + str(i) + '-citibike-tripdata.csv'))\n",
    "combined_df = pd.concat(df_list)\n",
    "combined_df.reset_index(drop=True, inplace=True)\n",
    "# Let's see how many rows we got\n",
    "print('Total number of rows in Citi Bike dataset: ' + str(combined_df.shape[0]))\n",
    "combined_df.head(988851)"
   ],
   "metadata": {
    "collapsed": false,
    "ExecuteTime": {
     "end_time": "2024-01-30T23:13:57.975650Z",
     "start_time": "2024-01-30T23:13:55.885619Z"
    }
   },
   "id": "50157fa6bffb427b",
   "execution_count": 28
  },
  {
   "cell_type": "code",
   "outputs": [],
   "source": [],
   "metadata": {
    "collapsed": false,
    "ExecuteTime": {
     "end_time": "2024-01-30T22:13:59.711231Z",
     "start_time": "2024-01-30T22:13:59.709143Z"
    }
   },
   "id": "2e723f50b340973",
   "execution_count": 8
  }
 ],
 "metadata": {
  "kernelspec": {
   "display_name": "Python 3",
   "language": "python",
   "name": "python3"
  },
  "language_info": {
   "codemirror_mode": {
    "name": "ipython",
    "version": 2
   },
   "file_extension": ".py",
   "mimetype": "text/x-python",
   "name": "python",
   "nbconvert_exporter": "python",
   "pygments_lexer": "ipython2",
   "version": "2.7.6"
  }
 },
 "nbformat": 4,
 "nbformat_minor": 5
}
