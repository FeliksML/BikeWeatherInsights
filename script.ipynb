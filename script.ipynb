{
 "cells": [
  {
   "cell_type": "markdown",
   "source": [
    "# First, let's inspect and clean our CitiBike trips data"
   ],
   "metadata": {
    "collapsed": false
   },
   "id": "954e9365c45b5e9e"
  },
  {
   "cell_type": "code",
   "outputs": [
    {
     "name": "stdout",
     "output_type": "stream",
     "text": [
      "Total number of rows in Citi Bike dataset: 988851\n"
     ]
    },
    {
     "data": {
      "text/plain": "                 ride_id  rideable_type           started_at  \\\n0       0905B18B365C9D20   classic_bike  2023-01-28 09:18:10   \n1       B4F0562B05CB5404  electric_bike  2023-01-23 20:10:12   \n2       5ABF032895F5D87E   classic_bike  2023-01-29 15:27:04   \n3       E7E1F9C53976D2F9   classic_bike  2023-01-24 18:35:08   \n4       323165780CA0734B   classic_bike  2023-01-21 20:44:09   \n...                  ...            ...                  ...   \n988846  7E862701EE7A6A03   classic_bike  2023-12-20 17:55:41   \n988847  DFAF91AB91BE25DB   classic_bike  2023-12-13 14:36:43   \n988848  AEE7B49E6EDFAE6F   classic_bike  2023-12-18 16:40:00   \n988849  A38E98956AD72EFB   classic_bike  2023-12-02 13:42:51   \n988850  F16E0B969D877368   classic_bike  2023-12-19 16:30:13   \n\n                   ended_at                        start_station_name  \\\n0       2023-01-28 09:28:52  Hoboken Terminal - Hudson St & Hudson Pl   \n1       2023-01-23 20:18:27  Hoboken Terminal - Hudson St & Hudson Pl   \n2       2023-01-29 15:32:38  Hoboken Terminal - Hudson St & Hudson Pl   \n3       2023-01-24 18:42:13  Hoboken Terminal - Hudson St & Hudson Pl   \n4       2023-01-21 20:48:08                             Hamilton Park   \n...                     ...                                       ...   \n988846  2023-12-20 18:00:10                          Heights Elevator   \n988847  2023-12-13 14:42:31                          Heights Elevator   \n988848  2023-12-18 16:45:45                           6 St & Grand St   \n988849  2023-12-02 13:50:42                           6 St & Grand St   \n988850  2023-12-19 16:36:54                           6 St & Grand St   \n\n       start_station_id                            end_station_name  \\\n0                 HB101                               Hamilton Park   \n1                 HB101  Southwest Park - Jackson St & Observer Hwy   \n2                 HB101                          Marshall St & 2 St   \n3                 HB101                               Hamilton Park   \n4                 JC009                                Manila & 1st   \n...                 ...                                         ...   \n988846            JC059                       Bloomfield St & 15 St   \n988847            JC059                       Bloomfield St & 15 St   \n988848            HB302                       Bloomfield St & 15 St   \n988849            HB302                       Bloomfield St & 15 St   \n988850            HB302                           Clinton St & 7 St   \n\n       end_station_id  start_lat  start_lng    end_lat    end_lng  \\\n0               JC009  40.735938 -74.030305  40.727596 -74.044247   \n1               HB401  40.735938 -74.030305  40.737551 -74.041664   \n2               HB408  40.735944 -74.030383  40.740802 -74.042521   \n3               JC009  40.735986 -74.030364  40.727596 -74.044247   \n4               JC082  40.727596 -74.044247  40.721651 -74.042884   \n...               ...        ...        ...        ...        ...   \n988846          HB203  40.748720 -74.040487  40.754530 -74.026580   \n988847          HB203  40.748767 -74.040470  40.754530 -74.026580   \n988848          HB203  40.744291 -74.034404  40.754530 -74.026580   \n988849          HB203  40.744398 -74.034501  40.754530 -74.026580   \n988850          HB303  40.744398 -74.034501  40.745420 -74.033320   \n\n       member_casual  \n0             member  \n1             member  \n2             member  \n3             member  \n4             member  \n...              ...  \n988846        casual  \n988847        member  \n988848        member  \n988849        member  \n988850        member  \n\n[988851 rows x 13 columns]",
      "text/html": "<div>\n<style scoped>\n    .dataframe tbody tr th:only-of-type {\n        vertical-align: middle;\n    }\n\n    .dataframe tbody tr th {\n        vertical-align: top;\n    }\n\n    .dataframe thead th {\n        text-align: right;\n    }\n</style>\n<table border=\"1\" class=\"dataframe\">\n  <thead>\n    <tr style=\"text-align: right;\">\n      <th></th>\n      <th>ride_id</th>\n      <th>rideable_type</th>\n      <th>started_at</th>\n      <th>ended_at</th>\n      <th>start_station_name</th>\n      <th>start_station_id</th>\n      <th>end_station_name</th>\n      <th>end_station_id</th>\n      <th>start_lat</th>\n      <th>start_lng</th>\n      <th>end_lat</th>\n      <th>end_lng</th>\n      <th>member_casual</th>\n    </tr>\n  </thead>\n  <tbody>\n    <tr>\n      <th>0</th>\n      <td>0905B18B365C9D20</td>\n      <td>classic_bike</td>\n      <td>2023-01-28 09:18:10</td>\n      <td>2023-01-28 09:28:52</td>\n      <td>Hoboken Terminal - Hudson St &amp; Hudson Pl</td>\n      <td>HB101</td>\n      <td>Hamilton Park</td>\n      <td>JC009</td>\n      <td>40.735938</td>\n      <td>-74.030305</td>\n      <td>40.727596</td>\n      <td>-74.044247</td>\n      <td>member</td>\n    </tr>\n    <tr>\n      <th>1</th>\n      <td>B4F0562B05CB5404</td>\n      <td>electric_bike</td>\n      <td>2023-01-23 20:10:12</td>\n      <td>2023-01-23 20:18:27</td>\n      <td>Hoboken Terminal - Hudson St &amp; Hudson Pl</td>\n      <td>HB101</td>\n      <td>Southwest Park - Jackson St &amp; Observer Hwy</td>\n      <td>HB401</td>\n      <td>40.735938</td>\n      <td>-74.030305</td>\n      <td>40.737551</td>\n      <td>-74.041664</td>\n      <td>member</td>\n    </tr>\n    <tr>\n      <th>2</th>\n      <td>5ABF032895F5D87E</td>\n      <td>classic_bike</td>\n      <td>2023-01-29 15:27:04</td>\n      <td>2023-01-29 15:32:38</td>\n      <td>Hoboken Terminal - Hudson St &amp; Hudson Pl</td>\n      <td>HB101</td>\n      <td>Marshall St &amp; 2 St</td>\n      <td>HB408</td>\n      <td>40.735944</td>\n      <td>-74.030383</td>\n      <td>40.740802</td>\n      <td>-74.042521</td>\n      <td>member</td>\n    </tr>\n    <tr>\n      <th>3</th>\n      <td>E7E1F9C53976D2F9</td>\n      <td>classic_bike</td>\n      <td>2023-01-24 18:35:08</td>\n      <td>2023-01-24 18:42:13</td>\n      <td>Hoboken Terminal - Hudson St &amp; Hudson Pl</td>\n      <td>HB101</td>\n      <td>Hamilton Park</td>\n      <td>JC009</td>\n      <td>40.735986</td>\n      <td>-74.030364</td>\n      <td>40.727596</td>\n      <td>-74.044247</td>\n      <td>member</td>\n    </tr>\n    <tr>\n      <th>4</th>\n      <td>323165780CA0734B</td>\n      <td>classic_bike</td>\n      <td>2023-01-21 20:44:09</td>\n      <td>2023-01-21 20:48:08</td>\n      <td>Hamilton Park</td>\n      <td>JC009</td>\n      <td>Manila &amp; 1st</td>\n      <td>JC082</td>\n      <td>40.727596</td>\n      <td>-74.044247</td>\n      <td>40.721651</td>\n      <td>-74.042884</td>\n      <td>member</td>\n    </tr>\n    <tr>\n      <th>...</th>\n      <td>...</td>\n      <td>...</td>\n      <td>...</td>\n      <td>...</td>\n      <td>...</td>\n      <td>...</td>\n      <td>...</td>\n      <td>...</td>\n      <td>...</td>\n      <td>...</td>\n      <td>...</td>\n      <td>...</td>\n      <td>...</td>\n    </tr>\n    <tr>\n      <th>988846</th>\n      <td>7E862701EE7A6A03</td>\n      <td>classic_bike</td>\n      <td>2023-12-20 17:55:41</td>\n      <td>2023-12-20 18:00:10</td>\n      <td>Heights Elevator</td>\n      <td>JC059</td>\n      <td>Bloomfield St &amp; 15 St</td>\n      <td>HB203</td>\n      <td>40.748720</td>\n      <td>-74.040487</td>\n      <td>40.754530</td>\n      <td>-74.026580</td>\n      <td>casual</td>\n    </tr>\n    <tr>\n      <th>988847</th>\n      <td>DFAF91AB91BE25DB</td>\n      <td>classic_bike</td>\n      <td>2023-12-13 14:36:43</td>\n      <td>2023-12-13 14:42:31</td>\n      <td>Heights Elevator</td>\n      <td>JC059</td>\n      <td>Bloomfield St &amp; 15 St</td>\n      <td>HB203</td>\n      <td>40.748767</td>\n      <td>-74.040470</td>\n      <td>40.754530</td>\n      <td>-74.026580</td>\n      <td>member</td>\n    </tr>\n    <tr>\n      <th>988848</th>\n      <td>AEE7B49E6EDFAE6F</td>\n      <td>classic_bike</td>\n      <td>2023-12-18 16:40:00</td>\n      <td>2023-12-18 16:45:45</td>\n      <td>6 St &amp; Grand St</td>\n      <td>HB302</td>\n      <td>Bloomfield St &amp; 15 St</td>\n      <td>HB203</td>\n      <td>40.744291</td>\n      <td>-74.034404</td>\n      <td>40.754530</td>\n      <td>-74.026580</td>\n      <td>member</td>\n    </tr>\n    <tr>\n      <th>988849</th>\n      <td>A38E98956AD72EFB</td>\n      <td>classic_bike</td>\n      <td>2023-12-02 13:42:51</td>\n      <td>2023-12-02 13:50:42</td>\n      <td>6 St &amp; Grand St</td>\n      <td>HB302</td>\n      <td>Bloomfield St &amp; 15 St</td>\n      <td>HB203</td>\n      <td>40.744398</td>\n      <td>-74.034501</td>\n      <td>40.754530</td>\n      <td>-74.026580</td>\n      <td>member</td>\n    </tr>\n    <tr>\n      <th>988850</th>\n      <td>F16E0B969D877368</td>\n      <td>classic_bike</td>\n      <td>2023-12-19 16:30:13</td>\n      <td>2023-12-19 16:36:54</td>\n      <td>6 St &amp; Grand St</td>\n      <td>HB302</td>\n      <td>Clinton St &amp; 7 St</td>\n      <td>HB303</td>\n      <td>40.744398</td>\n      <td>-74.034501</td>\n      <td>40.745420</td>\n      <td>-74.033320</td>\n      <td>member</td>\n    </tr>\n  </tbody>\n</table>\n<p>988851 rows × 13 columns</p>\n</div>"
     },
     "execution_count": 41,
     "metadata": {},
     "output_type": "execute_result"
    }
   ],
   "source": [
    "import pandas as pd\n",
    "\n",
    "df_list = []\n",
    "\n",
    "# Getting DataFrames from our .csv files using loop\n",
    "for i in range(1,13):\n",
    "    if i < 10:\n",
    "        df_list.append(pd.read_csv('data/JC-20230' + str(i) + '-citibike-tripdata.csv'))\n",
    "    else:\n",
    "        df_list.append(pd.read_csv('data/JC-2023' + str(i) + '-citibike-tripdata.csv'))\n",
    "combined_df = pd.concat(df_list)\n",
    "combined_df.reset_index(drop=True, inplace=True)\n",
    "# Let's see how many rows we got\n",
    "print('Total number of rows in Citi Bike dataset: ' + str(combined_df.shape[0]))\n",
    "combined_df.head(988851)"
   ],
   "metadata": {
    "collapsed": false,
    "ExecuteTime": {
     "end_time": "2024-02-21T04:21:04.383239Z",
     "start_time": "2024-02-21T04:21:02.506765Z"
    }
   },
   "id": "50157fa6bffb427b",
   "execution_count": 41
  },
  {
   "cell_type": "markdown",
   "source": [
    "# Examining null values"
   ],
   "metadata": {
    "collapsed": false
   },
   "id": "20c264d1b49258c0"
  },
  {
   "cell_type": "code",
   "outputs": [
    {
     "data": {
      "text/plain": "ride_id                  0\nrideable_type            0\nstarted_at               0\nended_at                 0\nstart_station_name      85\nstart_station_id        85\nend_station_name      3319\nend_station_id        3319\nstart_lat                0\nstart_lng                0\nend_lat                954\nend_lng                954\nmember_casual            0\ndtype: int64"
     },
     "execution_count": 42,
     "metadata": {},
     "output_type": "execute_result"
    }
   ],
   "source": [
    "combined_df.isnull().sum()\n"
   ],
   "metadata": {
    "collapsed": false,
    "ExecuteTime": {
     "end_time": "2024-02-21T04:21:05.177744Z",
     "start_time": "2024-02-21T04:21:05.084155Z"
    }
   },
   "id": "708f4abbb2922ea0",
   "execution_count": 42
  },
  {
   "cell_type": "markdown",
   "source": [
    "# We can see that we are missing 3319 values in columns about end_station_*.\n",
    "# Lets figure out what can be the reason of that and how we can tackle this issue."
   ],
   "metadata": {
    "collapsed": false
   },
   "id": "5f8bb93edbd0b8ca"
  },
  {
   "cell_type": "code",
   "outputs": [
    {
     "data": {
      "text/plain": "                 ride_id  rideable_type           started_at  \\\n448     8EA045BBA37A0719   classic_bike  2023-01-06 17:51:41   \n547     035683025D51ACA0   classic_bike  2023-01-28 23:03:42   \n549     ECA9E0C8111549F0  electric_bike  2023-01-21 01:45:25   \n567     68759C3009682643   classic_bike  2023-01-27 09:01:26   \n569     A7441B9B51909946   classic_bike  2023-01-13 16:03:30   \n...                  ...            ...                  ...   \n983559  8C1705634913B6E7   classic_bike  2023-12-18 14:12:25   \n985729  EF861287AFC29122   classic_bike  2023-12-13 07:42:49   \n985730  5C46CC1B233A9EE8   classic_bike  2023-12-08 08:13:25   \n987479  F9508E6CFB511D70   classic_bike  2023-12-10 12:18:10   \n987741  B9D3FDD2931A78D3   classic_bike  2023-12-27 05:21:37   \n\n                   ended_at                        start_station_name  \\\n448     2023-01-06 17:51:45  Hoboken Terminal - Hudson St & Hudson Pl   \n547     2023-01-30 00:03:34                             Hamilton Park   \n549     2023-01-22 02:45:21                         Madison St & 1 St   \n567     2023-01-27 09:06:37                             Hamilton Park   \n569     2023-01-13 17:08:06                            Pershing Field   \n...                     ...                                       ...   \n983559  2023-12-19 15:12:20                Hoboken Ave at Monmouth St   \n985729  2023-12-13 08:47:42                Hoboken Ave at Monmouth St   \n985730  2023-12-08 09:30:59                                  Union St   \n987479  2023-12-10 13:36:55                         Madison St & 1 St   \n987741  2023-12-27 06:19:47                         Madison St & 1 St   \n\n       start_station_id end_station_name end_station_id  start_lat  start_lng  \\\n448               HB101              NaN            NaN  40.736001 -74.030338   \n547               JC009              NaN            NaN  40.727596 -74.044247   \n549               HB402              NaN            NaN  40.738790 -74.039300   \n567               JC009              NaN            NaN  40.727553 -74.044259   \n569               JC024              NaN            NaN  40.742651 -74.051815   \n...                 ...              ...            ...        ...        ...   \n983559            JC105              NaN            NaN  40.735208 -74.046964   \n985729            JC105              NaN            NaN  40.735286 -74.046814   \n985730            JC051              NaN            NaN  40.718015 -74.083314   \n987479            HB402              NaN            NaN  40.738697 -74.039263   \n987741            HB402              NaN            NaN  40.738822 -74.039195   \n\n        end_lat  end_lng member_casual  \n448       40.74   -74.03        member  \n547         NaN      NaN        member  \n549         NaN      NaN        member  \n567       40.73   -74.04        member  \n569       40.73   -74.05        casual  \n...         ...      ...           ...  \n983559      NaN      NaN        casual  \n985729    40.73   -74.03        member  \n985730    40.73   -74.03        member  \n987479    40.75   -74.03        casual  \n987741    40.74   -74.03        member  \n\n[3319 rows x 13 columns]",
      "text/html": "<div>\n<style scoped>\n    .dataframe tbody tr th:only-of-type {\n        vertical-align: middle;\n    }\n\n    .dataframe tbody tr th {\n        vertical-align: top;\n    }\n\n    .dataframe thead th {\n        text-align: right;\n    }\n</style>\n<table border=\"1\" class=\"dataframe\">\n  <thead>\n    <tr style=\"text-align: right;\">\n      <th></th>\n      <th>ride_id</th>\n      <th>rideable_type</th>\n      <th>started_at</th>\n      <th>ended_at</th>\n      <th>start_station_name</th>\n      <th>start_station_id</th>\n      <th>end_station_name</th>\n      <th>end_station_id</th>\n      <th>start_lat</th>\n      <th>start_lng</th>\n      <th>end_lat</th>\n      <th>end_lng</th>\n      <th>member_casual</th>\n    </tr>\n  </thead>\n  <tbody>\n    <tr>\n      <th>448</th>\n      <td>8EA045BBA37A0719</td>\n      <td>classic_bike</td>\n      <td>2023-01-06 17:51:41</td>\n      <td>2023-01-06 17:51:45</td>\n      <td>Hoboken Terminal - Hudson St &amp; Hudson Pl</td>\n      <td>HB101</td>\n      <td>NaN</td>\n      <td>NaN</td>\n      <td>40.736001</td>\n      <td>-74.030338</td>\n      <td>40.74</td>\n      <td>-74.03</td>\n      <td>member</td>\n    </tr>\n    <tr>\n      <th>547</th>\n      <td>035683025D51ACA0</td>\n      <td>classic_bike</td>\n      <td>2023-01-28 23:03:42</td>\n      <td>2023-01-30 00:03:34</td>\n      <td>Hamilton Park</td>\n      <td>JC009</td>\n      <td>NaN</td>\n      <td>NaN</td>\n      <td>40.727596</td>\n      <td>-74.044247</td>\n      <td>NaN</td>\n      <td>NaN</td>\n      <td>member</td>\n    </tr>\n    <tr>\n      <th>549</th>\n      <td>ECA9E0C8111549F0</td>\n      <td>electric_bike</td>\n      <td>2023-01-21 01:45:25</td>\n      <td>2023-01-22 02:45:21</td>\n      <td>Madison St &amp; 1 St</td>\n      <td>HB402</td>\n      <td>NaN</td>\n      <td>NaN</td>\n      <td>40.738790</td>\n      <td>-74.039300</td>\n      <td>NaN</td>\n      <td>NaN</td>\n      <td>member</td>\n    </tr>\n    <tr>\n      <th>567</th>\n      <td>68759C3009682643</td>\n      <td>classic_bike</td>\n      <td>2023-01-27 09:01:26</td>\n      <td>2023-01-27 09:06:37</td>\n      <td>Hamilton Park</td>\n      <td>JC009</td>\n      <td>NaN</td>\n      <td>NaN</td>\n      <td>40.727553</td>\n      <td>-74.044259</td>\n      <td>40.73</td>\n      <td>-74.04</td>\n      <td>member</td>\n    </tr>\n    <tr>\n      <th>569</th>\n      <td>A7441B9B51909946</td>\n      <td>classic_bike</td>\n      <td>2023-01-13 16:03:30</td>\n      <td>2023-01-13 17:08:06</td>\n      <td>Pershing Field</td>\n      <td>JC024</td>\n      <td>NaN</td>\n      <td>NaN</td>\n      <td>40.742651</td>\n      <td>-74.051815</td>\n      <td>40.73</td>\n      <td>-74.05</td>\n      <td>casual</td>\n    </tr>\n    <tr>\n      <th>...</th>\n      <td>...</td>\n      <td>...</td>\n      <td>...</td>\n      <td>...</td>\n      <td>...</td>\n      <td>...</td>\n      <td>...</td>\n      <td>...</td>\n      <td>...</td>\n      <td>...</td>\n      <td>...</td>\n      <td>...</td>\n      <td>...</td>\n    </tr>\n    <tr>\n      <th>983559</th>\n      <td>8C1705634913B6E7</td>\n      <td>classic_bike</td>\n      <td>2023-12-18 14:12:25</td>\n      <td>2023-12-19 15:12:20</td>\n      <td>Hoboken Ave at Monmouth St</td>\n      <td>JC105</td>\n      <td>NaN</td>\n      <td>NaN</td>\n      <td>40.735208</td>\n      <td>-74.046964</td>\n      <td>NaN</td>\n      <td>NaN</td>\n      <td>casual</td>\n    </tr>\n    <tr>\n      <th>985729</th>\n      <td>EF861287AFC29122</td>\n      <td>classic_bike</td>\n      <td>2023-12-13 07:42:49</td>\n      <td>2023-12-13 08:47:42</td>\n      <td>Hoboken Ave at Monmouth St</td>\n      <td>JC105</td>\n      <td>NaN</td>\n      <td>NaN</td>\n      <td>40.735286</td>\n      <td>-74.046814</td>\n      <td>40.73</td>\n      <td>-74.03</td>\n      <td>member</td>\n    </tr>\n    <tr>\n      <th>985730</th>\n      <td>5C46CC1B233A9EE8</td>\n      <td>classic_bike</td>\n      <td>2023-12-08 08:13:25</td>\n      <td>2023-12-08 09:30:59</td>\n      <td>Union St</td>\n      <td>JC051</td>\n      <td>NaN</td>\n      <td>NaN</td>\n      <td>40.718015</td>\n      <td>-74.083314</td>\n      <td>40.73</td>\n      <td>-74.03</td>\n      <td>member</td>\n    </tr>\n    <tr>\n      <th>987479</th>\n      <td>F9508E6CFB511D70</td>\n      <td>classic_bike</td>\n      <td>2023-12-10 12:18:10</td>\n      <td>2023-12-10 13:36:55</td>\n      <td>Madison St &amp; 1 St</td>\n      <td>HB402</td>\n      <td>NaN</td>\n      <td>NaN</td>\n      <td>40.738697</td>\n      <td>-74.039263</td>\n      <td>40.75</td>\n      <td>-74.03</td>\n      <td>casual</td>\n    </tr>\n    <tr>\n      <th>987741</th>\n      <td>B9D3FDD2931A78D3</td>\n      <td>classic_bike</td>\n      <td>2023-12-27 05:21:37</td>\n      <td>2023-12-27 06:19:47</td>\n      <td>Madison St &amp; 1 St</td>\n      <td>HB402</td>\n      <td>NaN</td>\n      <td>NaN</td>\n      <td>40.738822</td>\n      <td>-74.039195</td>\n      <td>40.74</td>\n      <td>-74.03</td>\n      <td>member</td>\n    </tr>\n  </tbody>\n</table>\n<p>3319 rows × 13 columns</p>\n</div>"
     },
     "execution_count": 43,
     "metadata": {},
     "output_type": "execute_result"
    }
   ],
   "source": [
    "# Get those 85 rows\n",
    "combined_df[combined_df['end_station_name'].isnull()] "
   ],
   "metadata": {
    "collapsed": false,
    "ExecuteTime": {
     "end_time": "2024-02-21T04:21:05.262536Z",
     "start_time": "2024-02-21T04:21:05.178144Z"
    }
   },
   "id": "33234ba398d58396",
   "execution_count": 43
  },
  {
   "cell_type": "markdown",
   "source": [
    "# As we can the data is Missing Completely At Random, so in this case it's better to just remove those rows because some of them show abnormal high trip duration."
   ],
   "metadata": {
    "collapsed": false
   },
   "id": "fea6e350ac646e7"
  },
  {
   "cell_type": "code",
   "outputs": [],
   "source": [
    "combined_df.dropna(inplace=True)"
   ],
   "metadata": {
    "collapsed": false,
    "ExecuteTime": {
     "end_time": "2024-02-21T04:21:06.116152Z",
     "start_time": "2024-02-21T04:21:05.262737Z"
    }
   },
   "id": "778699e297407e0b",
   "execution_count": 44
  },
  {
   "cell_type": "markdown",
   "source": [
    "# Create Duration column"
   ],
   "metadata": {
    "collapsed": false
   },
   "id": "a76510223de76dd"
  },
  {
   "cell_type": "code",
   "outputs": [],
   "source": [
    "# First, ensure that start_end and start_at are in datetime format\n",
    "combined_df['started_at'] = pd.to_datetime(combined_df['started_at'])\n",
    "combined_df['ended_at'] = pd.to_datetime(combined_df['ended_at'])\n",
    "\n",
    "# Subtract ended_at from started_at to create the duration column\n",
    "combined_df['duration_min'] = ((combined_df['ended_at'] - combined_df['started_at']).dt.total_seconds() / 60).round(2)\n",
    "combined_df.to_csv('data/ridership.csv', index=False)"
   ],
   "metadata": {
    "collapsed": false,
    "ExecuteTime": {
     "end_time": "2024-02-21T04:21:14.625204Z",
     "start_time": "2024-02-21T04:21:06.259071Z"
    }
   },
   "id": "7587e930acadd89a",
   "execution_count": 45
  },
  {
   "cell_type": "markdown",
   "source": [
    "# Now we'll examine our weather data"
   ],
   "metadata": {
    "collapsed": false
   },
   "id": "cd08f5dae0f5faa7"
  },
  {
   "cell_type": "code",
   "outputs": [],
   "source": [
    "# Reading csv file into DataFrame\n",
    "w_df = pd.read_csv('data/export.csv')\n",
    "# Removing unnecessary columns\n",
    "w_df.drop(['wpgt', 'tsun'], axis=1, inplace=True)\n",
    "w_df.to_csv('data/weather.csv', index=False)"
   ],
   "metadata": {
    "collapsed": false,
    "ExecuteTime": {
     "end_time": "2024-02-21T04:21:14.632090Z",
     "start_time": "2024-02-21T04:21:14.626196Z"
    }
   },
   "id": "dbd4e2b8c2febc2c",
   "execution_count": 46
  },
  {
   "cell_type": "markdown",
   "source": [
    "# Now our data is ready"
   ],
   "metadata": {
    "collapsed": false
   },
   "id": "9893ed2d93e34443"
  }
 ],
 "metadata": {
  "kernelspec": {
   "display_name": "Python 3",
   "language": "python",
   "name": "python3"
  },
  "language_info": {
   "codemirror_mode": {
    "name": "ipython",
    "version": 2
   },
   "file_extension": ".py",
   "mimetype": "text/x-python",
   "name": "python",
   "nbconvert_exporter": "python",
   "pygments_lexer": "ipython2",
   "version": "2.7.6"
  }
 },
 "nbformat": 4,
 "nbformat_minor": 5
}
